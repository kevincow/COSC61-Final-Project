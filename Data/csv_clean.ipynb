{
 "cells": [
  {
   "cell_type": "code",
   "execution_count": 2,
   "id": "fddb1aa5",
   "metadata": {},
   "outputs": [],
   "source": [
    "import pandas as pd\n",
    "import numpy as np\n",
    "import matplotlib.pyplot as plt"
   ]
  },
  {
   "cell_type": "code",
   "execution_count": 5,
   "id": "e5d3447c",
   "metadata": {},
   "outputs": [
    {
     "name": "stderr",
     "output_type": "stream",
     "text": [
      "/var/folders/5m/nw7wt55x46v9lm322x4fhb2r0000gn/T/ipykernel_58289/2115625858.py:1: DtypeWarning: Columns (12,13,14,15,19,20,81,83,85,87,93,94,95,96,97,98,99,100,105,106,108,109,111,112,114,115,117,118,120,121,123,124,126,127,129,130,132,133,135,136,138,139,141,142,144,145,147,148,150,151,153,154,156,157,160) have mixed types. Specify dtype option on import or set low_memory=False.\n",
      "  df = pd.read_csv(\"Data/game_logs.csv\")\n"
     ]
    }
   ],
   "source": [
    "# Note that I modified game_logs.csv directly through the text editor when I fixed the names of intentional_walks column.\n",
    "# Originally, there was a space \"intentional walks\", but I removed this issue in the column naming.\n",
    "\n",
    "# People.csv has the ids used in game_logs.csv under \"retroID\", though it shares the baseball-reference ID system\n",
    "# along with Batting.csv, Fielding.csv, and Pitching.csv. We now update Batting.csv, Fielding.csv, and Pitching.csv\n",
    "# to use the \"retroID\" player/manager identifiers. \n",
    "people = pd.read_csv(\"Data/baseballdatabank-2023.1/core/People.csv\")\n",
    "batting = pd.read_csv(\"Data/baseballdatabank-2023.1/core/Batting.csv\")\n",
    "fielding = pd.read_csv(\"Data/baseballdatabank-2023.1/core/Fielding.csv\")\n",
    "pitching = pd.read_csv(\"Data/baseballdatabank-2023.1/core/Pitching.csv\")"
   ]
  },
  {
   "cell_type": "code",
   "execution_count": 6,
   "id": "df005a65",
   "metadata": {},
   "outputs": [
    {
     "name": "stdout",
     "output_type": "stream",
     "text": [
      "            date  number_of_game day_of_week v_name v_league  v_game_number   \n",
      "0       18710504               0         Thu    CL1       na              1  \\\n",
      "1       18710505               0         Fri    BS1       na              1   \n",
      "2       18710506               0         Sat    CL1       na              2   \n",
      "3       18710508               0         Mon    CL1       na              3   \n",
      "4       18710509               0         Tue    BS1       na              2   \n",
      "...          ...             ...         ...    ...      ...            ...   \n",
      "171902  20161002               0         Sun    MIL       NL            162   \n",
      "171903  20161002               0         Sun    NYN       NL            162   \n",
      "171904  20161002               0         Sun    LAN       NL            162   \n",
      "171905  20161002               0         Sun    PIT       NL            162   \n",
      "171906  20161002               0         Sun    MIA       NL            161   \n",
      "\n",
      "       h_name h_league  h_game_number  v_score  ...  h_player_7_name   \n",
      "0         FW1       na              1        0  ...       Ed Mincher  \\\n",
      "1         WS3       na              1       20  ...     Asa Brainard   \n",
      "2         RC1       na              1       12  ...       Pony Sager   \n",
      "3         CH1       na              1       12  ...         Ed Duffy   \n",
      "4         TRO       na              1        9  ...     Steve Bellan   \n",
      "...       ...      ...            ...      ...  ...              ...   \n",
      "171902    COL       NL            162        6  ...      Pat Valaika   \n",
      "171903    PHI       NL            162        2  ...    Andres Blanco   \n",
      "171904    SFN       NL            162        1  ...        Joe Panik   \n",
      "171905    SLN       NL            162        4  ...      Jedd Gyorko   \n",
      "171906    WAS       NL            162        7  ...   Danny Espinosa   \n",
      "\n",
      "        h_player_7_def_pos h_player_8_id   h_player_8_name h_player_8_def_pos   \n",
      "0                      7.0      mcdej101   James McDermott                8.0  \\\n",
      "1                      1.0      burrh101   Henry Burroughs                9.0   \n",
      "2                      6.0      birdg101       George Bird                7.0   \n",
      "3                      6.0      pinke101        Ed Pinkham                5.0   \n",
      "4                      5.0      pikel101          Lip Pike                3.0   \n",
      "...                    ...           ...               ...                ...   \n",
      "171902                 4.0      adamc001  Cristhian Adames                6.0   \n",
      "171903                 6.0      altha001     Aaron Altherr                9.0   \n",
      "171904                 4.0      gillc001   Conor Gillaspie                5.0   \n",
      "171905                 4.0      gricr001    Randal Grichuk                8.0   \n",
      "171906                 6.0      lobaj001      Jose Lobaton                2.0   \n",
      "\n",
      "       h_player_9_id  h_player_9_name  h_player_9_def_pos  additional_info   \n",
      "0           kellb105       Bill Kelly                 9.0              NaN  \\\n",
      "1           berth101  Henry Berthrong                 8.0             HTBF   \n",
      "2           stirg101       Gat Stires                 9.0              NaN   \n",
      "3           zettg101  George Zettlein                 1.0              NaN   \n",
      "4           cravb101      Bill Craver                 6.0             HTBF   \n",
      "...              ...              ...                 ...              ...   \n",
      "171902      marqg001   German Marquez                 1.0              NaN   \n",
      "171903      eickj001   Jerad Eickhoff                 1.0              NaN   \n",
      "171904      moorm003       Matt Moore                 1.0              NaN   \n",
      "171905      waina001  Adam Wainwright                 1.0              NaN   \n",
      "171906      schem001     Max Scherzer                 1.0              NaN   \n",
      "\n",
      "       acquisition_info  \n",
      "0                     Y  \n",
      "1                     Y  \n",
      "2                     Y  \n",
      "3                     Y  \n",
      "4                     Y  \n",
      "...                 ...  \n",
      "171902                Y  \n",
      "171903                Y  \n",
      "171904                Y  \n",
      "171905                Y  \n",
      "171906                Y  \n",
      "\n",
      "[171907 rows x 161 columns]\n"
     ]
    }
   ],
   "source": [
    "# Changing the keys of Batting.csv\n",
    "merged_df = batting.merge(people[[\"playerID\", \"retroID\"]], on=\"playerID\", how=\"left\")\n",
    "batting[\"retroID\"] = merged_df[\"retroID\"]\n",
    "batting.drop(columns=\"playerID\", inplace=True)\n",
    "batting.rename(columns={\"retroID\" : \"playerID\"}, inplace=True)"
   ]
  },
  {
   "cell_type": "code",
   "execution_count": 5,
   "id": "7ff1716d",
   "metadata": {},
   "outputs": [
    {
     "name": "stdout",
     "output_type": "stream",
     "text": [
      "            date  number_of_game day_of_week v_name v_league  v_game_number   \n",
      "0       18710504               0         Thu    CL1     NULL              1  \\\n",
      "1       18710505               0         Fri    BS1     NULL              1   \n",
      "2       18710506               0         Sat    CL1     NULL              2   \n",
      "3       18710508               0         Mon    CL1     NULL              3   \n",
      "4       18710509               0         Tue    BS1     NULL              2   \n",
      "...          ...             ...         ...    ...      ...            ...   \n",
      "171902  20161002               0         Sun    MIL       NL            162   \n",
      "171903  20161002               0         Sun    NYN       NL            162   \n",
      "171904  20161002               0         Sun    LAN       NL            162   \n",
      "171905  20161002               0         Sun    PIT       NL            162   \n",
      "171906  20161002               0         Sun    MIA       NL            161   \n",
      "\n",
      "       h_name h_league  h_game_number  v_score  ...  h_player_7_name   \n",
      "0         FW1     NULL              1        0  ...       Ed Mincher  \\\n",
      "1         WS3     NULL              1       20  ...     Asa Brainard   \n",
      "2         RC1     NULL              1       12  ...       Pony Sager   \n",
      "3         CH1     NULL              1       12  ...         Ed Duffy   \n",
      "4         TRO     NULL              1        9  ...     Steve Bellan   \n",
      "...       ...      ...            ...      ...  ...              ...   \n",
      "171902    COL       NL            162        6  ...      Pat Valaika   \n",
      "171903    PHI       NL            162        2  ...    Andres Blanco   \n",
      "171904    SFN       NL            162        1  ...        Joe Panik   \n",
      "171905    SLN       NL            162        4  ...      Jedd Gyorko   \n",
      "171906    WAS       NL            162        7  ...   Danny Espinosa   \n",
      "\n",
      "       h_player_7_def_pos h_player_8_id   h_player_8_name h_player_8_def_pos   \n",
      "0                     7.0      mcdej101   James McDermott                8.0  \\\n",
      "1                     1.0      burrh101   Henry Burroughs                9.0   \n",
      "2                     6.0      birdg101       George Bird                7.0   \n",
      "3                     6.0      pinke101        Ed Pinkham                5.0   \n",
      "4                     5.0      pikel101          Lip Pike                3.0   \n",
      "...                   ...           ...               ...                ...   \n",
      "171902                4.0      adamc001  Cristhian Adames                6.0   \n",
      "171903                6.0      altha001     Aaron Altherr                9.0   \n",
      "171904                4.0      gillc001   Conor Gillaspie                5.0   \n",
      "171905                4.0      gricr001    Randal Grichuk                8.0   \n",
      "171906                6.0      lobaj001      Jose Lobaton                2.0   \n",
      "\n",
      "       h_player_9_id  h_player_9_name h_player_9_def_pos additional_info   \n",
      "0           kellb105       Bill Kelly                9.0            NULL  \\\n",
      "1           berth101  Henry Berthrong                8.0            HTBF   \n",
      "2           stirg101       Gat Stires                9.0            NULL   \n",
      "3           zettg101  George Zettlein                1.0            NULL   \n",
      "4           cravb101      Bill Craver                6.0            HTBF   \n",
      "...              ...              ...                ...             ...   \n",
      "171902      marqg001   German Marquez                1.0            NULL   \n",
      "171903      eickj001   Jerad Eickhoff                1.0            NULL   \n",
      "171904      moorm003       Matt Moore                1.0            NULL   \n",
      "171905      waina001  Adam Wainwright                1.0            NULL   \n",
      "171906      schem001     Max Scherzer                1.0            NULL   \n",
      "\n",
      "       acquisition_info  \n",
      "0                     Y  \n",
      "1                     Y  \n",
      "2                     Y  \n",
      "3                     Y  \n",
      "4                     Y  \n",
      "...                 ...  \n",
      "171902                Y  \n",
      "171903                Y  \n",
      "171904                Y  \n",
      "171905                Y  \n",
      "171906                Y  \n",
      "\n",
      "[171907 rows x 161 columns]\n"
     ]
    }
   ],
   "source": [
    "# Changing the keys of Fielding.csv\n",
    "merged_df = fielding.merge(people[[\"playerID\", \"retroID\"]], on=\"playerID\", how=\"left\")\n",
    "fielding[\"retroID\"] = merged_df[\"retroID\"]\n",
    "fielding.drop(columns=\"playerID\", inplace=True)\n",
    "fielding.rename(columns={\"retroID\" : \"playerID\"}, inplace=True)"
   ]
  },
  {
   "cell_type": "code",
   "execution_count": 11,
   "id": "ea6372ef",
   "metadata": {},
   "outputs": [],
   "source": [
    "# Changing the keys of Pitching.csv\n",
    "merged_df = pitching.merge(people[[\"playerID\", \"retroID\"]], on=\"playerID\", how=\"left\")\n",
    "pitching[\"retroID\"] = merged_df[\"retroID\"]\n",
    "pitching.drop(columns=\"playerID\", inplace=True)\n",
    "pitching.rename(columns={\"retroID\" : \"playerID\"}, inplace=True)"
   ]
  },
  {
   "cell_type": "code",
   "execution_count": 42,
   "id": "1ec7b481",
   "metadata": {},
   "outputs": [],
   "source": [
    "# Upload the modified dataframe to .csv format\n",
    "batting.to_csv(\"Data/baseballdatabank-2023.1/core/Batting_clean.csv\")\n",
    "fielding.to_csv(\"Data/baseballdatabank-2023.1/core/Fielding_clean.csv\")\n",
    "pitching.to_csv(\"Data/baseballdatabank-2023.1/core/Pitching_clean.csv\")"
   ]
  },
  {
   "cell_type": "code",
   "execution_count": 37,
   "id": "ca1c2eb9",
   "metadata": {},
   "outputs": [],
   "source": []
  },
  {
   "cell_type": "code",
   "execution_count": 38,
   "id": "de813135",
   "metadata": {},
   "outputs": [],
   "source": []
  },
  {
   "cell_type": "code",
   "execution_count": 39,
   "id": "ab8657d5",
   "metadata": {},
   "outputs": [],
   "source": []
  },
  {
   "cell_type": "code",
   "execution_count": 40,
   "id": "e48e1ad5",
   "metadata": {},
   "outputs": [],
   "source": []
  },
  {
   "cell_type": "code",
   "execution_count": 41,
   "id": "0e537c60",
   "metadata": {},
   "outputs": [],
   "source": []
  },
  {
   "cell_type": "code",
   "execution_count": null,
   "id": "c57ff055",
   "metadata": {},
   "outputs": [],
   "source": []
  }
 ],
 "metadata": {
  "kernelspec": {
   "display_name": "Python 3 (ipykernel)",
   "language": "python",
   "name": "python3"
  },
  "language_info": {
   "codemirror_mode": {
    "name": "ipython",
    "version": 3
   },
   "file_extension": ".py",
   "mimetype": "text/x-python",
   "name": "python",
   "nbconvert_exporter": "python",
   "pygments_lexer": "ipython3",
   "version": "3.9.5"
  }
 },
 "nbformat": 4,
 "nbformat_minor": 5
}
